{
 "cells": [
  {
   "cell_type": "code",
   "execution_count": 1,
   "id": "ddb9a7e0",
   "metadata": {},
   "outputs": [
    {
     "data": {
      "text/html": [
       "<div>\n",
       "<style scoped>\n",
       "    .dataframe tbody tr th:only-of-type {\n",
       "        vertical-align: middle;\n",
       "    }\n",
       "\n",
       "    .dataframe tbody tr th {\n",
       "        vertical-align: top;\n",
       "    }\n",
       "\n",
       "    .dataframe thead th {\n",
       "        text-align: right;\n",
       "    }\n",
       "</style>\n",
       "<table border=\"1\" class=\"dataframe\">\n",
       "  <thead>\n",
       "    <tr style=\"text-align: right;\">\n",
       "      <th></th>\n",
       "      <th>adult</th>\n",
       "      <th>belongs_to_collection</th>\n",
       "      <th>budget</th>\n",
       "      <th>genres</th>\n",
       "      <th>homepage</th>\n",
       "      <th>id</th>\n",
       "      <th>imdb_id</th>\n",
       "      <th>original_language</th>\n",
       "      <th>original_title</th>\n",
       "      <th>overview</th>\n",
       "      <th>...</th>\n",
       "      <th>release_date</th>\n",
       "      <th>revenue</th>\n",
       "      <th>runtime</th>\n",
       "      <th>spoken_languages</th>\n",
       "      <th>status</th>\n",
       "      <th>tagline</th>\n",
       "      <th>title</th>\n",
       "      <th>video</th>\n",
       "      <th>vote_average</th>\n",
       "      <th>vote_count</th>\n",
       "    </tr>\n",
       "  </thead>\n",
       "  <tbody>\n",
       "    <tr>\n",
       "      <th>0</th>\n",
       "      <td>False</td>\n",
       "      <td>NaN</td>\n",
       "      <td>0</td>\n",
       "      <td>[{'id': 18, 'name': 'Drama'}, {'id': 80, 'name...</td>\n",
       "      <td>NaN</td>\n",
       "      <td>2</td>\n",
       "      <td>tt0094675</td>\n",
       "      <td>fi</td>\n",
       "      <td>Ariel</td>\n",
       "      <td>Taisto Kasurinen is a Finnish coal miner whose...</td>\n",
       "      <td>...</td>\n",
       "      <td>21-10-1988</td>\n",
       "      <td>0</td>\n",
       "      <td>69</td>\n",
       "      <td>[{'iso_639_1': 'fi', 'name': 'suomi'}, {'iso_6...</td>\n",
       "      <td>Released</td>\n",
       "      <td>NaN</td>\n",
       "      <td>Ariel</td>\n",
       "      <td>False</td>\n",
       "      <td>7.1</td>\n",
       "      <td>44</td>\n",
       "    </tr>\n",
       "    <tr>\n",
       "      <th>1</th>\n",
       "      <td>False</td>\n",
       "      <td>NaN</td>\n",
       "      <td>0</td>\n",
       "      <td>[{'id': 18, 'name': 'Drama'}, {'id': 35, 'name...</td>\n",
       "      <td>NaN</td>\n",
       "      <td>3</td>\n",
       "      <td>tt0092149</td>\n",
       "      <td>fi</td>\n",
       "      <td>Varjoja paratiisissa</td>\n",
       "      <td>An episode in the life of Nikander, a garbage ...</td>\n",
       "      <td>...</td>\n",
       "      <td>16-10-1986</td>\n",
       "      <td>0</td>\n",
       "      <td>76</td>\n",
       "      <td>[{'iso_639_1': 'en', 'name': 'English'}, {'iso...</td>\n",
       "      <td>Released</td>\n",
       "      <td>NaN</td>\n",
       "      <td>Shadows in Paradise</td>\n",
       "      <td>False</td>\n",
       "      <td>7.1</td>\n",
       "      <td>35</td>\n",
       "    </tr>\n",
       "    <tr>\n",
       "      <th>2</th>\n",
       "      <td>False</td>\n",
       "      <td>NaN</td>\n",
       "      <td>4000000</td>\n",
       "      <td>[{'id': 80, 'name': 'Crime'}, {'id': 35, 'name...</td>\n",
       "      <td>NaN</td>\n",
       "      <td>5</td>\n",
       "      <td>tt0113101</td>\n",
       "      <td>en</td>\n",
       "      <td>Four Rooms</td>\n",
       "      <td>It's Ted the Bellhop's first night on the job....</td>\n",
       "      <td>...</td>\n",
       "      <td>09-12-1995</td>\n",
       "      <td>4300000</td>\n",
       "      <td>98</td>\n",
       "      <td>[{'iso_639_1': 'en', 'name': 'English'}]</td>\n",
       "      <td>Released</td>\n",
       "      <td>Twelve outrageous guests. Four scandalous requ...</td>\n",
       "      <td>Four Rooms</td>\n",
       "      <td>False</td>\n",
       "      <td>6.5</td>\n",
       "      <td>539</td>\n",
       "    </tr>\n",
       "    <tr>\n",
       "      <th>3</th>\n",
       "      <td>False</td>\n",
       "      <td>NaN</td>\n",
       "      <td>0</td>\n",
       "      <td>[{'id': 28, 'name': 'Action'}, {'id': 53, 'nam...</td>\n",
       "      <td>NaN</td>\n",
       "      <td>6</td>\n",
       "      <td>tt0107286</td>\n",
       "      <td>en</td>\n",
       "      <td>Judgment Night</td>\n",
       "      <td>While racing to a boxing match, Frank, Mike, J...</td>\n",
       "      <td>...</td>\n",
       "      <td>15-10-1993</td>\n",
       "      <td>12136938</td>\n",
       "      <td>110</td>\n",
       "      <td>[{'iso_639_1': 'en', 'name': 'English'}]</td>\n",
       "      <td>Released</td>\n",
       "      <td>Don't move. Don't whisper. Don't even breathe.</td>\n",
       "      <td>Judgment Night</td>\n",
       "      <td>False</td>\n",
       "      <td>6.4</td>\n",
       "      <td>79</td>\n",
       "    </tr>\n",
       "    <tr>\n",
       "      <th>4</th>\n",
       "      <td>False</td>\n",
       "      <td>{'id': 10, 'name': 'Star Wars Collection', 'po...</td>\n",
       "      <td>11000000</td>\n",
       "      <td>[{'id': 12, 'name': 'Adventure'}, {'id': 28, '...</td>\n",
       "      <td>http://www.starwars.com/films/star-wars-episod...</td>\n",
       "      <td>11</td>\n",
       "      <td>tt0076759</td>\n",
       "      <td>en</td>\n",
       "      <td>Star Wars</td>\n",
       "      <td>Princess Leia is captured and held hostage by ...</td>\n",
       "      <td>...</td>\n",
       "      <td>25-05-1977</td>\n",
       "      <td>775398007</td>\n",
       "      <td>121</td>\n",
       "      <td>[{'iso_639_1': 'en', 'name': 'English'}]</td>\n",
       "      <td>Released</td>\n",
       "      <td>A long time ago in a galaxy far, far away...</td>\n",
       "      <td>Star Wars</td>\n",
       "      <td>False</td>\n",
       "      <td>8.1</td>\n",
       "      <td>6778</td>\n",
       "    </tr>\n",
       "  </tbody>\n",
       "</table>\n",
       "<p>5 rows × 24 columns</p>\n",
       "</div>"
      ],
      "text/plain": [
       "   adult                              belongs_to_collection    budget  \\\n",
       "0  False                                                NaN         0   \n",
       "1  False                                                NaN         0   \n",
       "2  False                                                NaN   4000000   \n",
       "3  False                                                NaN         0   \n",
       "4  False  {'id': 10, 'name': 'Star Wars Collection', 'po...  11000000   \n",
       "\n",
       "                                              genres  \\\n",
       "0  [{'id': 18, 'name': 'Drama'}, {'id': 80, 'name...   \n",
       "1  [{'id': 18, 'name': 'Drama'}, {'id': 35, 'name...   \n",
       "2  [{'id': 80, 'name': 'Crime'}, {'id': 35, 'name...   \n",
       "3  [{'id': 28, 'name': 'Action'}, {'id': 53, 'nam...   \n",
       "4  [{'id': 12, 'name': 'Adventure'}, {'id': 28, '...   \n",
       "\n",
       "                                            homepage  id    imdb_id  \\\n",
       "0                                                NaN   2  tt0094675   \n",
       "1                                                NaN   3  tt0092149   \n",
       "2                                                NaN   5  tt0113101   \n",
       "3                                                NaN   6  tt0107286   \n",
       "4  http://www.starwars.com/films/star-wars-episod...  11  tt0076759   \n",
       "\n",
       "  original_language        original_title  \\\n",
       "0                fi                 Ariel   \n",
       "1                fi  Varjoja paratiisissa   \n",
       "2                en            Four Rooms   \n",
       "3                en        Judgment Night   \n",
       "4                en             Star Wars   \n",
       "\n",
       "                                            overview  ...  release_date  \\\n",
       "0  Taisto Kasurinen is a Finnish coal miner whose...  ...    21-10-1988   \n",
       "1  An episode in the life of Nikander, a garbage ...  ...    16-10-1986   \n",
       "2  It's Ted the Bellhop's first night on the job....  ...    09-12-1995   \n",
       "3  While racing to a boxing match, Frank, Mike, J...  ...    15-10-1993   \n",
       "4  Princess Leia is captured and held hostage by ...  ...    25-05-1977   \n",
       "\n",
       "     revenue runtime                                   spoken_languages  \\\n",
       "0          0      69  [{'iso_639_1': 'fi', 'name': 'suomi'}, {'iso_6...   \n",
       "1          0      76  [{'iso_639_1': 'en', 'name': 'English'}, {'iso...   \n",
       "2    4300000      98           [{'iso_639_1': 'en', 'name': 'English'}]   \n",
       "3   12136938     110           [{'iso_639_1': 'en', 'name': 'English'}]   \n",
       "4  775398007     121           [{'iso_639_1': 'en', 'name': 'English'}]   \n",
       "\n",
       "     status                                            tagline  \\\n",
       "0  Released                                                NaN   \n",
       "1  Released                                                NaN   \n",
       "2  Released  Twelve outrageous guests. Four scandalous requ...   \n",
       "3  Released     Don't move. Don't whisper. Don't even breathe.   \n",
       "4  Released       A long time ago in a galaxy far, far away...   \n",
       "\n",
       "                 title  video vote_average vote_count  \n",
       "0                Ariel  False          7.1         44  \n",
       "1  Shadows in Paradise  False          7.1         35  \n",
       "2           Four Rooms  False          6.5        539  \n",
       "3       Judgment Night  False          6.4         79  \n",
       "4            Star Wars  False          8.1       6778  \n",
       "\n",
       "[5 rows x 24 columns]"
      ]
     },
     "execution_count": 1,
     "metadata": {},
     "output_type": "execute_result"
    }
   ],
   "source": [
    "import pandas as pd\n",
    "\n",
    "metadata = pd.read_csv('metadata_mod.csv', low_memory=False)\n",
    "\n",
    "metadata.head(5)"
   ]
  },
  {
   "cell_type": "code",
   "execution_count": 2,
   "id": "a73b9ff0",
   "metadata": {},
   "outputs": [
    {
     "name": "stdout",
     "output_type": "stream",
     "text": [
      "7.002102102102103\n"
     ]
    }
   ],
   "source": [
    "C = metadata['vote_average'].mean()\n",
    "print(C)"
   ]
  },
  {
   "cell_type": "code",
   "execution_count": 3,
   "id": "ceae9481",
   "metadata": {},
   "outputs": [
    {
     "name": "stdout",
     "output_type": "stream",
     "text": [
      "2841.0\n"
     ]
    }
   ],
   "source": [
    "m = metadata['vote_count'].quantile(0.90)\n",
    "print(m)"
   ]
  },
  {
   "cell_type": "code",
   "execution_count": 4,
   "id": "9c017834",
   "metadata": {},
   "outputs": [
    {
     "data": {
      "text/plain": [
       "(101, 24)"
      ]
     },
     "execution_count": 4,
     "metadata": {},
     "output_type": "execute_result"
    }
   ],
   "source": [
    "q_movies = metadata.copy().loc[metadata['vote_count'] >= m]\n",
    "q_movies.shape"
   ]
  },
  {
   "cell_type": "code",
   "execution_count": 5,
   "id": "1daff985",
   "metadata": {},
   "outputs": [
    {
     "data": {
      "text/plain": [
       "(999, 24)"
      ]
     },
     "execution_count": 5,
     "metadata": {},
     "output_type": "execute_result"
    }
   ],
   "source": [
    "metadata.shape"
   ]
  },
  {
   "cell_type": "code",
   "execution_count": 6,
   "id": "de59efe1",
   "metadata": {},
   "outputs": [],
   "source": [
    "def weighted_rating(x, m=m, C=C):\n",
    "    v = x['vote_count']\n",
    "    R = x['vote_average']\n",
    "    return (v/(v+m) * R) + (m/(m+v) * C)"
   ]
  },
  {
   "cell_type": "code",
   "execution_count": 7,
   "id": "2b3f30c8",
   "metadata": {},
   "outputs": [],
   "source": [
    "q_movies['score'] = q_movies.apply(weighted_rating, axis=1)\n"
   ]
  },
  {
   "cell_type": "code",
   "execution_count": 8,
   "id": "e83274dd",
   "metadata": {},
   "outputs": [
    {
     "data": {
      "text/html": [
       "<div>\n",
       "<style scoped>\n",
       "    .dataframe tbody tr th:only-of-type {\n",
       "        vertical-align: middle;\n",
       "    }\n",
       "\n",
       "    .dataframe tbody tr th {\n",
       "        vertical-align: top;\n",
       "    }\n",
       "\n",
       "    .dataframe thead th {\n",
       "        text-align: right;\n",
       "    }\n",
       "</style>\n",
       "<table border=\"1\" class=\"dataframe\">\n",
       "  <thead>\n",
       "    <tr style=\"text-align: right;\">\n",
       "      <th></th>\n",
       "      <th>title</th>\n",
       "      <th>vote_count</th>\n",
       "      <th>vote_average</th>\n",
       "      <th>score</th>\n",
       "    </tr>\n",
       "  </thead>\n",
       "  <tbody>\n",
       "    <tr>\n",
       "      <th>223</th>\n",
       "      <td>The Shawshank Redemption</td>\n",
       "      <td>8358</td>\n",
       "      <td>8.5</td>\n",
       "      <td>8.120008</td>\n",
       "    </tr>\n",
       "    <tr>\n",
       "      <th>112</th>\n",
       "      <td>The Dark Knight</td>\n",
       "      <td>12269</td>\n",
       "      <td>8.3</td>\n",
       "      <td>8.055968</td>\n",
       "    </tr>\n",
       "    <tr>\n",
       "      <th>186</th>\n",
       "      <td>The Godfather</td>\n",
       "      <td>6024</td>\n",
       "      <td>8.5</td>\n",
       "      <td>8.019963</td>\n",
       "    </tr>\n",
       "    <tr>\n",
       "      <th>414</th>\n",
       "      <td>Fight Club</td>\n",
       "      <td>9678</td>\n",
       "      <td>8.3</td>\n",
       "      <td>8.005461</td>\n",
       "    </tr>\n",
       "    <tr>\n",
       "      <th>535</th>\n",
       "      <td>Pulp Fiction</td>\n",
       "      <td>8670</td>\n",
       "      <td>8.3</td>\n",
       "      <td>7.979669</td>\n",
       "    </tr>\n",
       "    <tr>\n",
       "      <th>6</th>\n",
       "      <td>Forrest Gump</td>\n",
       "      <td>8147</td>\n",
       "      <td>8.2</td>\n",
       "      <td>7.890278</td>\n",
       "    </tr>\n",
       "    <tr>\n",
       "      <th>84</th>\n",
       "      <td>The Lord of the Rings: The Return of the King</td>\n",
       "      <td>8226</td>\n",
       "      <td>8.1</td>\n",
       "      <td>7.818160</td>\n",
       "    </tr>\n",
       "    <tr>\n",
       "      <th>322</th>\n",
       "      <td>Schindler's List</td>\n",
       "      <td>4436</td>\n",
       "      <td>8.3</td>\n",
       "      <td>7.793290</td>\n",
       "    </tr>\n",
       "    <tr>\n",
       "      <th>4</th>\n",
       "      <td>Star Wars</td>\n",
       "      <td>6778</td>\n",
       "      <td>8.1</td>\n",
       "      <td>7.775733</td>\n",
       "    </tr>\n",
       "    <tr>\n",
       "      <th>89</th>\n",
       "      <td>Spirited Away</td>\n",
       "      <td>3968</td>\n",
       "      <td>8.3</td>\n",
       "      <td>7.758463</td>\n",
       "    </tr>\n",
       "    <tr>\n",
       "      <th>82</th>\n",
       "      <td>The Lord of the Rings: The Fellowship of the Ring</td>\n",
       "      <td>8892</td>\n",
       "      <td>8.0</td>\n",
       "      <td>7.758371</td>\n",
       "    </tr>\n",
       "    <tr>\n",
       "      <th>629</th>\n",
       "      <td>Se7en</td>\n",
       "      <td>5915</td>\n",
       "      <td>8.1</td>\n",
       "      <td>7.743773</td>\n",
       "    </tr>\n",
       "    <tr>\n",
       "      <th>494</th>\n",
       "      <td>Life Is Beautiful</td>\n",
       "      <td>3643</td>\n",
       "      <td>8.3</td>\n",
       "      <td>7.731319</td>\n",
       "    </tr>\n",
       "    <tr>\n",
       "      <th>83</th>\n",
       "      <td>The Lord of the Rings: The Two Towers</td>\n",
       "      <td>7641</td>\n",
       "      <td>8.0</td>\n",
       "      <td>7.729534</td>\n",
       "    </tr>\n",
       "    <tr>\n",
       "      <th>64</th>\n",
       "      <td>Leon: The Professional</td>\n",
       "      <td>4293</td>\n",
       "      <td>8.2</td>\n",
       "      <td>7.722957</td>\n",
       "    </tr>\n",
       "    <tr>\n",
       "      <th>374</th>\n",
       "      <td>The Green Mile</td>\n",
       "      <td>4166</td>\n",
       "      <td>8.2</td>\n",
       "      <td>7.714310</td>\n",
       "    </tr>\n",
       "    <tr>\n",
       "      <th>188</th>\n",
       "      <td>The Godfather: Part II</td>\n",
       "      <td>3418</td>\n",
       "      <td>8.3</td>\n",
       "      <td>7.710876</td>\n",
       "    </tr>\n",
       "    <tr>\n",
       "      <th>68</th>\n",
       "      <td>Back to the Future</td>\n",
       "      <td>6239</td>\n",
       "      <td>8.0</td>\n",
       "      <td>7.687772</td>\n",
       "    </tr>\n",
       "    <tr>\n",
       "      <th>462</th>\n",
       "      <td>The Matrix</td>\n",
       "      <td>9079</td>\n",
       "      <td>7.9</td>\n",
       "      <td>7.685996</td>\n",
       "    </tr>\n",
       "    <tr>\n",
       "      <th>219</th>\n",
       "      <td>The Silence of the Lambs</td>\n",
       "      <td>4549</td>\n",
       "      <td>8.1</td>\n",
       "      <td>7.677926</td>\n",
       "    </tr>\n",
       "  </tbody>\n",
       "</table>\n",
       "</div>"
      ],
      "text/plain": [
       "                                                 title  vote_count  \\\n",
       "223                           The Shawshank Redemption        8358   \n",
       "112                                    The Dark Knight       12269   \n",
       "186                                      The Godfather        6024   \n",
       "414                                         Fight Club        9678   \n",
       "535                                       Pulp Fiction        8670   \n",
       "6                                         Forrest Gump        8147   \n",
       "84       The Lord of the Rings: The Return of the King        8226   \n",
       "322                                   Schindler's List        4436   \n",
       "4                                            Star Wars        6778   \n",
       "89                                       Spirited Away        3968   \n",
       "82   The Lord of the Rings: The Fellowship of the Ring        8892   \n",
       "629                                              Se7en        5915   \n",
       "494                                  Life Is Beautiful        3643   \n",
       "83               The Lord of the Rings: The Two Towers        7641   \n",
       "64                              Leon: The Professional        4293   \n",
       "374                                     The Green Mile        4166   \n",
       "188                             The Godfather: Part II        3418   \n",
       "68                                  Back to the Future        6239   \n",
       "462                                         The Matrix        9079   \n",
       "219                           The Silence of the Lambs        4549   \n",
       "\n",
       "     vote_average     score  \n",
       "223           8.5  8.120008  \n",
       "112           8.3  8.055968  \n",
       "186           8.5  8.019963  \n",
       "414           8.3  8.005461  \n",
       "535           8.3  7.979669  \n",
       "6             8.2  7.890278  \n",
       "84            8.1  7.818160  \n",
       "322           8.3  7.793290  \n",
       "4             8.1  7.775733  \n",
       "89            8.3  7.758463  \n",
       "82            8.0  7.758371  \n",
       "629           8.1  7.743773  \n",
       "494           8.3  7.731319  \n",
       "83            8.0  7.729534  \n",
       "64            8.2  7.722957  \n",
       "374           8.2  7.714310  \n",
       "188           8.3  7.710876  \n",
       "68            8.0  7.687772  \n",
       "462           7.9  7.685996  \n",
       "219           8.1  7.677926  "
      ]
     },
     "execution_count": 8,
     "metadata": {},
     "output_type": "execute_result"
    }
   ],
   "source": [
    "q_movies = q_movies.sort_values('score', ascending=False)\n",
    "\n",
    "q_movies[['title', 'vote_count', 'vote_average', 'score']].head(20)"
   ]
  },
  {
   "cell_type": "code",
   "execution_count": 9,
   "id": "82aafdc8",
   "metadata": {},
   "outputs": [
    {
     "data": {
      "text/plain": [
       "0    Taisto Kasurinen is a Finnish coal miner whose...\n",
       "1    An episode in the life of Nikander, a garbage ...\n",
       "2    It's Ted the Bellhop's first night on the job....\n",
       "3    While racing to a boxing match, Frank, Mike, J...\n",
       "4    Princess Leia is captured and held hostage by ...\n",
       "Name: overview, dtype: object"
      ]
     },
     "execution_count": 9,
     "metadata": {},
     "output_type": "execute_result"
    }
   ],
   "source": [
    "metadata['overview'].head()\n"
   ]
  },
  {
   "cell_type": "code",
   "execution_count": 10,
   "id": "f7b29f9f",
   "metadata": {},
   "outputs": [
    {
     "data": {
      "text/plain": [
       "(999, 9122)"
      ]
     },
     "execution_count": 10,
     "metadata": {},
     "output_type": "execute_result"
    }
   ],
   "source": [
    "from sklearn.feature_extraction.text import TfidfVectorizer\n",
    "\n",
    "tfidf = TfidfVectorizer(stop_words='english')\n",
    "metadata['overview'] = metadata['overview'].fillna('')\n",
    "tfidf_matrix = tfidf.fit_transform(metadata['overview'])\n",
    "tfidf_matrix.shape"
   ]
  },
  {
   "cell_type": "code",
   "execution_count": 11,
   "id": "b58d2a8d",
   "metadata": {},
   "outputs": [],
   "source": [
    "from sklearn.metrics.pairwise import linear_kernel\n",
    "\n",
    "cosine_sim = linear_kernel(tfidf_matrix, tfidf_matrix)"
   ]
  },
  {
   "cell_type": "code",
   "execution_count": 12,
   "id": "c7db98d8",
   "metadata": {},
   "outputs": [
    {
     "data": {
      "text/plain": [
       "(999, 999)"
      ]
     },
     "execution_count": 12,
     "metadata": {},
     "output_type": "execute_result"
    }
   ],
   "source": [
    "cosine_sim.shape"
   ]
  },
  {
   "cell_type": "code",
   "execution_count": 13,
   "id": "123d785b",
   "metadata": {
    "scrolled": true
   },
   "outputs": [
    {
     "data": {
      "text/plain": [
       "array([0.01690673, 1.        , 0.        , 0.        , 0.        ,\n",
       "       0.        , 0.0501316 , 0.04014904, 0.01646768, 0.02596633,\n",
       "       0.        , 0.        , 0.        , 0.        , 0.        ,\n",
       "       0.        , 0.03531255, 0.        , 0.        , 0.03761027,\n",
       "       0.        , 0.        , 0.        , 0.        , 0.        ,\n",
       "       0.01745644, 0.        , 0.        , 0.        , 0.        ,\n",
       "       0.        , 0.        , 0.        , 0.        , 0.04991632,\n",
       "       0.01558686, 0.01548789, 0.        , 0.        , 0.        ,\n",
       "       0.        , 0.        , 0.        , 0.01588039, 0.03237902,\n",
       "       0.        , 0.        , 0.        , 0.        , 0.        ,\n",
       "       0.01025347, 0.        , 0.        , 0.01539372, 0.        ,\n",
       "       0.        , 0.        , 0.        , 0.        , 0.        ,\n",
       "       0.        , 0.04980729, 0.03775695, 0.        , 0.01685288,\n",
       "       0.        , 0.        , 0.        , 0.        , 0.        ,\n",
       "       0.        , 0.11578349, 0.        , 0.        , 0.        ,\n",
       "       0.        , 0.        , 0.        , 0.05067231, 0.        ,\n",
       "       0.        , 0.        , 0.        , 0.        , 0.        ,\n",
       "       0.        , 0.        , 0.0209451 , 0.        , 0.        ,\n",
       "       0.00993106, 0.        , 0.        , 0.        , 0.        ,\n",
       "       0.        , 0.        , 0.0266833 , 0.04883455, 0.        ,\n",
       "       0.01667587, 0.        , 0.04256858, 0.        , 0.02031906,\n",
       "       0.02588026, 0.02071598, 0.        , 0.        , 0.        ,\n",
       "       0.        , 0.04453966, 0.        , 0.        , 0.        ,\n",
       "       0.        , 0.03756176, 0.        , 0.        , 0.        ,\n",
       "       0.        , 0.        , 0.        , 0.        , 0.        ,\n",
       "       0.        , 0.        , 0.        , 0.        , 0.        ,\n",
       "       0.        , 0.        , 0.        , 0.01642917, 0.        ,\n",
       "       0.        , 0.        , 0.        , 0.        , 0.        ,\n",
       "       0.        , 0.        , 0.        , 0.        , 0.        ,\n",
       "       0.        , 0.02009018, 0.        , 0.        , 0.        ,\n",
       "       0.        , 0.        , 0.        , 0.        , 0.        ,\n",
       "       0.        , 0.02568527, 0.        , 0.03041515, 0.        ,\n",
       "       0.        , 0.        , 0.03141232, 0.        , 0.        ,\n",
       "       0.08198426, 0.01545289, 0.        , 0.        , 0.01536997,\n",
       "       0.        , 0.01724998, 0.        , 0.02246398, 0.04505416,\n",
       "       0.        , 0.        , 0.        , 0.        , 0.        ,\n",
       "       0.        , 0.        , 0.        , 0.05863001, 0.        ,\n",
       "       0.        , 0.01427125, 0.        , 0.        , 0.        ,\n",
       "       0.        , 0.        , 0.        , 0.01322785, 0.        ,\n",
       "       0.01678652, 0.0073782 , 0.01438352, 0.        , 0.        ,\n",
       "       0.01551694, 0.        , 0.        , 0.04899275, 0.        ,\n",
       "       0.        , 0.        , 0.        , 0.        , 0.        ,\n",
       "       0.        , 0.        , 0.        , 0.        , 0.        ,\n",
       "       0.        , 0.        , 0.01664877, 0.03670328, 0.        ,\n",
       "       0.0130843 , 0.        , 0.        , 0.01289435, 0.        ,\n",
       "       0.        , 0.        , 0.        , 0.0223912 , 0.        ,\n",
       "       0.        , 0.        , 0.        , 0.        , 0.        ,\n",
       "       0.        , 0.03027844, 0.        , 0.        , 0.04944397,\n",
       "       0.        , 0.        , 0.03802233, 0.        , 0.        ,\n",
       "       0.        , 0.        , 0.        , 0.        , 0.        ,\n",
       "       0.01357366, 0.02124014, 0.        , 0.03131642, 0.        ,\n",
       "       0.04705616, 0.01373699, 0.        , 0.03902476, 0.        ,\n",
       "       0.        , 0.0397949 , 0.        , 0.        , 0.        ,\n",
       "       0.        , 0.        , 0.        , 0.        , 0.        ,\n",
       "       0.        , 0.01684954, 0.        , 0.01778949, 0.        ,\n",
       "       0.        , 0.02022331, 0.        , 0.01478827, 0.        ,\n",
       "       0.01969702, 0.        , 0.        , 0.        , 0.        ,\n",
       "       0.        , 0.        , 0.        , 0.        , 0.        ,\n",
       "       0.        , 0.        , 0.        , 0.05455298, 0.        ,\n",
       "       0.        , 0.        , 0.        , 0.01551932, 0.        ,\n",
       "       0.03396797, 0.        , 0.        , 0.        , 0.        ,\n",
       "       0.02071708, 0.01458549, 0.        , 0.        , 0.01751363,\n",
       "       0.03946824, 0.        , 0.04725573, 0.        , 0.01954171,\n",
       "       0.03394286, 0.        , 0.        , 0.        , 0.02841252,\n",
       "       0.        , 0.        , 0.        , 0.        , 0.        ,\n",
       "       0.        , 0.        , 0.02170919, 0.        , 0.        ,\n",
       "       0.        , 0.01529805, 0.        , 0.        , 0.        ,\n",
       "       0.        , 0.        , 0.00961154, 0.0452249 , 0.        ,\n",
       "       0.        , 0.03427462, 0.        , 0.        , 0.        ,\n",
       "       0.        , 0.        , 0.        , 0.        , 0.01778027,\n",
       "       0.        , 0.01576352, 0.03284707, 0.        , 0.        ,\n",
       "       0.        , 0.        , 0.        , 0.        , 0.        ,\n",
       "       0.        , 0.        , 0.        , 0.        , 0.02509024,\n",
       "       0.        , 0.        , 0.        , 0.        , 0.08592549,\n",
       "       0.        , 0.        , 0.        , 0.        , 0.04457603,\n",
       "       0.012505  , 0.        , 0.0552004 , 0.        , 0.        ,\n",
       "       0.        , 0.02308709, 0.        , 0.        , 0.        ,\n",
       "       0.01690854, 0.        , 0.        , 0.07763931, 0.01663574,\n",
       "       0.08434923, 0.        , 0.        , 0.02984551, 0.        ,\n",
       "       0.01724534, 0.        , 0.        , 0.        , 0.        ,\n",
       "       0.04495919, 0.        , 0.01583479, 0.01694238, 0.0134454 ,\n",
       "       0.        , 0.01675704, 0.0977136 , 0.01997622, 0.02087034,\n",
       "       0.        , 0.        , 0.02344702, 0.        , 0.        ,\n",
       "       0.        , 0.01994356, 0.        , 0.        , 0.        ,\n",
       "       0.01736236, 0.0179539 , 0.        , 0.        , 0.        ,\n",
       "       0.        , 0.02889514, 0.02045736, 0.01573624, 0.        ,\n",
       "       0.        , 0.        , 0.        , 0.03500453, 0.        ,\n",
       "       0.        , 0.        , 0.        , 0.        , 0.        ,\n",
       "       0.        , 0.        , 0.01513353, 0.02493105, 0.        ,\n",
       "       0.        , 0.        , 0.05702449, 0.        , 0.        ,\n",
       "       0.06124855, 0.        , 0.        , 0.01634837, 0.03519202,\n",
       "       0.01873557, 0.02399759, 0.02359373, 0.        , 0.        ,\n",
       "       0.        , 0.        , 0.        , 0.01406426, 0.        ,\n",
       "       0.0313644 , 0.        , 0.        , 0.        , 0.        ,\n",
       "       0.01398578, 0.        , 0.01306401, 0.01369252, 0.01459614,\n",
       "       0.        , 0.        , 0.        , 0.        , 0.        ,\n",
       "       0.        , 0.        , 0.04493785, 0.        , 0.        ,\n",
       "       0.02544887, 0.        , 0.02148771, 0.        , 0.        ,\n",
       "       0.        , 0.        , 0.02060947, 0.01456128, 0.01585301,\n",
       "       0.0805841 , 0.02702122, 0.        , 0.        , 0.        ,\n",
       "       0.        , 0.01310397, 0.        , 0.02700297, 0.0215697 ,\n",
       "       0.02388156, 0.        , 0.01030084, 0.        , 0.        ,\n",
       "       0.03907161, 0.05185444, 0.01142237, 0.        , 0.        ,\n",
       "       0.        , 0.        , 0.05452998, 0.        , 0.        ,\n",
       "       0.        , 0.        , 0.        , 0.        , 0.        ,\n",
       "       0.        , 0.01340945, 0.02393755, 0.        , 0.        ,\n",
       "       0.        , 0.        , 0.        , 0.01396506, 0.        ,\n",
       "       0.02029882, 0.        , 0.        , 0.        , 0.        ,\n",
       "       0.04860286, 0.02623564, 0.02320979, 0.        , 0.        ,\n",
       "       0.        , 0.01875748, 0.        , 0.        , 0.02618674,\n",
       "       0.        , 0.        , 0.        , 0.        , 0.03066022,\n",
       "       0.        , 0.        , 0.01179899, 0.        , 0.        ,\n",
       "       0.        , 0.        , 0.        , 0.        , 0.01855791,\n",
       "       0.02420273, 0.0248354 , 0.        , 0.        , 0.        ,\n",
       "       0.        , 0.05175081, 0.03588952, 0.        , 0.02952986,\n",
       "       0.        , 0.03070897, 0.        , 0.        , 0.01866548,\n",
       "       0.        , 0.        , 0.        , 0.        , 0.        ,\n",
       "       0.        , 0.        , 0.        , 0.        , 0.033475  ,\n",
       "       0.        , 0.        , 0.        , 0.10174478, 0.        ,\n",
       "       0.        , 0.        , 0.        , 0.        , 0.        ,\n",
       "       0.        , 0.        , 0.        , 0.        , 0.02435185,\n",
       "       0.01582317, 0.        , 0.01922284, 0.01793061, 0.        ,\n",
       "       0.        , 0.        , 0.01224176, 0.        , 0.02801109,\n",
       "       0.02657126, 0.        , 0.01449528, 0.        , 0.        ,\n",
       "       0.        , 0.        , 0.01994843, 0.0132499 , 0.        ,\n",
       "       0.        , 0.        , 0.        , 0.        , 0.        ,\n",
       "       0.        , 0.        , 0.        , 0.        , 0.        ,\n",
       "       0.        , 0.        , 0.        , 0.        , 0.        ,\n",
       "       0.        , 0.06747925, 0.        , 0.        , 0.01207209,\n",
       "       0.        , 0.04909114, 0.        , 0.        , 0.01617618,\n",
       "       0.        , 0.04065708, 0.        , 0.        , 0.01287629,\n",
       "       0.        , 0.03173254, 0.        , 0.02024693, 0.        ,\n",
       "       0.01456373, 0.08659624, 0.        , 0.        , 0.09876438,\n",
       "       0.        , 0.        , 0.        , 0.        , 0.        ,\n",
       "       0.        , 0.        , 0.        , 0.        , 0.00971353,\n",
       "       0.        , 0.        , 0.        , 0.02602979, 0.        ,\n",
       "       0.        , 0.06256369, 0.        , 0.        , 0.        ,\n",
       "       0.03980349, 0.01438721, 0.0204655 , 0.01247568, 0.        ,\n",
       "       0.        , 0.014974  , 0.        , 0.01115912, 0.0579987 ,\n",
       "       0.        , 0.        , 0.        , 0.01507075, 0.        ,\n",
       "       0.        , 0.        , 0.        , 0.01547676, 0.11441658,\n",
       "       0.        , 0.01570631, 0.        , 0.        , 0.        ,\n",
       "       0.        , 0.        , 0.01175532, 0.        , 0.        ,\n",
       "       0.02190818, 0.        , 0.        , 0.02182733, 0.        ,\n",
       "       0.        , 0.        , 0.        , 0.02189753, 0.        ,\n",
       "       0.        , 0.        , 0.        , 0.        , 0.        ,\n",
       "       0.        , 0.        , 0.        , 0.01215076, 0.        ,\n",
       "       0.05615148, 0.        , 0.        , 0.        , 0.0125173 ,\n",
       "       0.        , 0.        , 0.        , 0.        , 0.        ,\n",
       "       0.        , 0.        , 0.        , 0.        , 0.02304879,\n",
       "       0.        , 0.10593138, 0.        , 0.        , 0.        ,\n",
       "       0.        , 0.        , 0.        , 0.01851672, 0.        ,\n",
       "       0.01754336, 0.02832218, 0.        , 0.        , 0.        ,\n",
       "       0.        , 0.        , 0.        , 0.        , 0.        ,\n",
       "       0.0324457 , 0.        , 0.01124257, 0.03292486, 0.        ,\n",
       "       0.        , 0.01513836, 0.01266259, 0.        , 0.        ,\n",
       "       0.        , 0.        , 0.        , 0.        , 0.        ,\n",
       "       0.        , 0.        , 0.        , 0.01844944, 0.        ,\n",
       "       0.        , 0.        , 0.02021846, 0.        , 0.        ,\n",
       "       0.        , 0.        , 0.        , 0.        , 0.        ,\n",
       "       0.01156875, 0.02553242, 0.        , 0.        , 0.01211247,\n",
       "       0.02278117, 0.02722887, 0.02975338, 0.        , 0.01733877,\n",
       "       0.        , 0.01894926, 0.        , 0.04969384, 0.        ,\n",
       "       0.        , 0.        , 0.        , 0.01696435, 0.05772223,\n",
       "       0.02167603, 0.        , 0.02665295, 0.        , 0.        ,\n",
       "       0.        , 0.09304016, 0.02908395, 0.01575804, 0.01027538,\n",
       "       0.        , 0.        , 0.01751728, 0.        , 0.01495712,\n",
       "       0.01083849, 0.        , 0.        , 0.05063221, 0.        ,\n",
       "       0.00702163, 0.        , 0.06397994, 0.        , 0.03771136,\n",
       "       0.        , 0.0315213 , 0.        , 0.        , 0.05214694,\n",
       "       0.        , 0.        , 0.        , 0.        , 0.        ,\n",
       "       0.        , 0.03786705, 0.        , 0.        , 0.        ,\n",
       "       0.        , 0.        , 0.01991556, 0.03947511, 0.        ,\n",
       "       0.05711435, 0.        , 0.        , 0.        , 0.02539979,\n",
       "       0.07393465, 0.        , 0.01431573, 0.        , 0.        ,\n",
       "       0.        , 0.        , 0.        , 0.        , 0.        ,\n",
       "       0.        , 0.02482895, 0.        , 0.        , 0.01730776,\n",
       "       0.01326822, 0.04758038, 0.        , 0.        , 0.        ,\n",
       "       0.02448079, 0.        , 0.02797043, 0.00952681, 0.02796615,\n",
       "       0.        , 0.        , 0.00946964, 0.03925582, 0.        ,\n",
       "       0.        , 0.00835876, 0.        , 0.        , 0.02235495,\n",
       "       0.07599488, 0.        , 0.        , 0.        , 0.0346792 ,\n",
       "       0.        , 0.        , 0.01178153, 0.        , 0.01838625,\n",
       "       0.        , 0.        , 0.08967267, 0.        , 0.01049718,\n",
       "       0.        , 0.01695152, 0.02096937, 0.        , 0.        ,\n",
       "       0.        , 0.        , 0.        , 0.        , 0.01840075,\n",
       "       0.        , 0.        , 0.        , 0.        , 0.07251482,\n",
       "       0.        , 0.02669581, 0.        , 0.0110933 , 0.        ,\n",
       "       0.        , 0.        , 0.        , 0.        , 0.        ,\n",
       "       0.        , 0.        , 0.        , 0.        , 0.        ,\n",
       "       0.        , 0.01316026, 0.02309963, 0.        , 0.        ,\n",
       "       0.01852244, 0.        , 0.        , 0.        , 0.        ,\n",
       "       0.        , 0.        , 0.02552683, 0.        , 0.10783621,\n",
       "       0.        , 0.        , 0.        , 0.        , 0.        ,\n",
       "       0.        , 0.        , 0.        , 0.        , 0.        ,\n",
       "       0.        , 0.        , 0.01245976, 0.        , 0.        ,\n",
       "       0.        , 0.        , 0.04264892, 0.        , 0.        ,\n",
       "       0.01329711, 0.03293309, 0.        , 0.02009351, 0.        ,\n",
       "       0.        , 0.01018387, 0.        , 0.02720067, 0.        ,\n",
       "       0.        , 0.01752876, 0.        , 0.        ])"
      ]
     },
     "execution_count": 13,
     "metadata": {},
     "output_type": "execute_result"
    }
   ],
   "source": [
    "cosine_sim[1]"
   ]
  },
  {
   "cell_type": "code",
   "execution_count": 14,
   "id": "68abb85a",
   "metadata": {},
   "outputs": [],
   "source": [
    "indices = pd.Series(metadata.index, index=metadata['title']).drop_duplicates()\n"
   ]
  },
  {
   "cell_type": "code",
   "execution_count": 15,
   "id": "18bb45f4",
   "metadata": {},
   "outputs": [
    {
     "data": {
      "text/plain": [
       "title\n",
       "Ariel                  0\n",
       "Shadows in Paradise    1\n",
       "Four Rooms             2\n",
       "Judgment Night         3\n",
       "Star Wars              4\n",
       "Finding Nemo           5\n",
       "Forrest Gump           6\n",
       "American Beauty        7\n",
       "Citizen Kane           8\n",
       "Dancer in the Dark     9\n",
       "dtype: int64"
      ]
     },
     "execution_count": 15,
     "metadata": {},
     "output_type": "execute_result"
    }
   ],
   "source": [
    "indices[:10]"
   ]
  },
  {
   "cell_type": "code",
   "execution_count": 16,
   "id": "d1ce0cff",
   "metadata": {},
   "outputs": [],
   "source": [
    "def get_recommendations(title, cosine_sim=cosine_sim):\n",
    "    idx = indices[title]\n",
    "\n",
    "    sim_scores = list(enumerate(cosine_sim[idx]))\n",
    "\n",
    "    sim_scores = sorted(sim_scores, key=lambda x: x[1], reverse=True)\n",
    "\n",
    "    sim_scores = sim_scores[1:11]\n",
    "\n",
    "    movie_indices = [i[0] for i in sim_scores]\n",
    "\n",
    "    return metadata['title'].iloc[movie_indices]\n"
   ]
  },
  {
   "cell_type": "code",
   "execution_count": 17,
   "id": "87cbbcbb",
   "metadata": {},
   "outputs": [
    {
     "data": {
      "text/plain": [
       "225            Terminator 2: Judgment Day\n",
       "401                  Terminator Salvation\n",
       "238    Terminator 3: Rise of the Machines\n",
       "10                               The Dark\n",
       "300                     Kill Bill: Vol. 2\n",
       "711                          Delicatessen\n",
       "462                            The Matrix\n",
       "137                       Minority Report\n",
       "606                                Gandhi\n",
       "765                            Spaceballs\n",
       "Name: title, dtype: object"
      ]
     },
     "execution_count": 17,
     "metadata": {},
     "output_type": "execute_result"
    }
   ],
   "source": [
    "get_recommendations('The Terminator')"
   ]
  },
  {
   "cell_type": "code",
   "execution_count": 18,
   "id": "2155e699",
   "metadata": {},
   "outputs": [
    {
     "name": "stderr",
     "output_type": "stream",
     "text": [
      "C:\\Users\\SURESH CHOUDHARY H\\AppData\\Local\\Temp\\ipykernel_4952\\732359111.py:1: DtypeWarning: Columns (3,4,5,6,7,8,9,10,11,12,13,14,15,16,17,18,19,20,21,22,23,24,25,26,27,28,29,30,31,32,33,34,35,36,37,38,39,40,41,42,43,44,45,46,47,48,49,50,51,52,53,54,55,56,57,58,59,60,61,62,63,64,65,66,67,68,69,70,71,72,73,74,75,76,77,78,79,80,81,82,83,84,85,86,87,88,89,90,91,92,93,94,95,96,97,98,99,100,101,102,103,104,105,106,107,108,109,110,111,112,113,114,115,116,117,118,119,120,121,122,123,124,125,126,127,128,129,130,131,132,133,134,135,136,137,138,139,140,141,142,143,144,145,146,147,148,149,150,151,152,153,154,155,156,157,158,159,160,161,162,163,164,165,166,167,168,169,170,171,172,173,174,175,176,177,178,179,180,181,182,183,184,185,186,187,188,189,190,191,192,193,194,195,196,197,198,199,200,201,202,203,204,205,206,207,208,209,210,211,212,213,214,215,216,217,218,219,220,221,222,223,224,225,226,227,228,229,230,231,232,233,234,235,236,237,238,239,240,241,242,243,244,245,246,247,248,249,250,251,252,253,254,255,256,257,258,259,260,261,262,263,264,265,266,267,268,269,270,271,272,273,274,275,276,277,278,279,280,281,282,283,284,285,286,287,288,289,290,291,292,293,294,295,296,297,298,299,300,301,302,303,304,305,306,307,308,309,310,311,312,313,314,315,316,317,318,319,320,321,322,323,324,325,326,327,328,329,330,331,332,333,334,335,336,337,338,339,340,341,342,343,344,345,346,347,348,349,350,351,352,353,354,355,356,357,358,359,360,361,362,363,364,365,366,367,368,369,370,371,372,373,374,375,376,377,378,379,380,381,382,383,384,385,386,387,388,389,390,391,392,393,394,395,396,397,398,399,400,401,402,403,404,405,406,407,408,409,410,411,412,413,414,415,416,417,418,419,420,421,422,423,424,425,426,427,428,429,430,431,432,433,434,435,436,437,438,439,440,441,442,443,444,445,446,447,448,449,450,451,452,453,454,455,456,457,458,459,460,461,462,463,464,465,466,467,468,469,470,471,472,473,474,475,476,477,478,479,480,481,482,483,484,485,486,487,488,489,490,491,492,493,494,495,496,497,498,499,500,501,502,503,504,505,506,507,508,509,510,511,512,513,514,515,516,517,518,519,520,521,522,523,524,525,526,527,528,529,530,531,532,533,534,535,536,537,538,539,540,541,542,543,544,545,546,547,548,549,550,551,552,553,554,555,556,557,558,559,560,561,562,563,564,565,566,567,568,569,570,571,572,573,574,575,576,577,578,579,580,581,582,583,584,585,586,587,588,589,590,591,592,593,594,595,596,597,598,599,600,601,602,603,604,605,606,607,608,609,610,611,612,613,614,615,616,617,618,619,620,621,622,623,624,625,626,627,628,629,630,631,632,633,634,635,636,637,638,639,640,641,642,643,644,645,646,647,648,649,650,651,652,653,654,655,656,657,658,659,660,661,662,663,664,665,666,667,668,669,670,671,672,673,674,675,676,677,678,679,680,681,682,683,684,685,686,687,688,689,690,691,692,693,694,695,696,697,698,699,700,701,702,703,704,705,706,707,708,709,710,711,712,713,714,715,716,717,718,719,720,721,722,723,724,725,726,727,728,729,730,731,732,733,734,735,736,737,738,739,740,741,742,743,744,745,746,747,748,749,750,751,752,753,754,755,756,757,758,759,760,761,762,763,764,765,766,767,768,769,770,771,772,773,774,775,776,777,778,779,780,781,782,783,784,785,786,787,788,789,790,791,792,793,794,795,796,797,798,799,800,801,802,803,804,805,806,807,808,809,810,811,812,813,814,815,816,817,818,819,820,821,822,823,824,825,826,827,828,829,830,831,832,833,834,835,836,837,838,839,840,841,842,843,844,845,846,847,848,849,850,851,852,853,854,855,856,857,858,859,860,861,862,863,864,865,866,867,868,869,870,871,872,873,874,875,876,877,878,879,880,881,882,883,884,885,886,887,888,889,890,891,892,893,894,895,896,897,898,899,900,901,902,903,904,905,906,907,908,909,910,911,912,913,914,915,916,917,918,919,920,921,922,923,924,925,926,927,928,929,930,931,932,933,934,935,936,937,938,939,940,941,942,943,944,945,946,947,948,949,950,951,952,953,954,955,956,957,958,959,960,961,962,963,964,965,966,967,968,969,970,971,972,973,974,975,976,977,978,979,980,981,982,983,984,985,986,987,988,989,990,991,992,993,994,995,996,997,998,999,1000,1001,1002,1003,1004,1005,1006,1007,1008,1009,1010,1011,1012,1013,1014,1015,1016,1017,1018,1019,1020,1021,1022,1023,1024,1025,1026,1027,1028,1029,1030,1031,1032,1033,1034,1035,1036,1037,1038,1039,1040,1041,1042,1043,1044,1045,1046,1047,1048,1049,1050,1051,1052,1053,1054,1055,1056,1057,1058,1059,1060,1061,1062,1063,1064,1065,1066,1067,1068,1069,1070,1071,1072,1073,1074,1075,1076,1077,1078,1079,1080,1081,1082,1083,1084,1085,1086,1087,1088,1089,1090,1091,1092,1093,1094,1095,1096,1097,1098,1099,1100,1101,1102,1103,1104,1105,1106,1107,1108,1109,1110,1111,1112,1113,1114,1115,1116,1117,1118,1119,1120,1121,1122,1123,1124,1125,1126,1127,1128,1129,1130,1131,1132,1133,1134,1135) have mixed types. Specify dtype option on import or set low_memory=False.\n",
      "  credits = pd.read_csv('credit_mod.csv')\n"
     ]
    }
   ],
   "source": [
    "credits = pd.read_csv('credit_mod.csv')\n",
    "keywords = pd.read_csv('keyword_mod.csv')\n",
    "\n",
    "keywords['id'] = keywords['id'].astype('int')\n",
    "credits['id'] = credits['id'].astype('int')\n",
    "metadata['id'] = metadata['id'].astype('int')\n",
    "\n",
    "metadata = metadata.merge(credits, on='id')\n",
    "metadata = metadata.merge(keywords, on='id')"
   ]
  },
  {
   "cell_type": "code",
   "execution_count": 19,
   "id": "f81583d6",
   "metadata": {},
   "outputs": [
    {
     "data": {
      "text/html": [
       "<div>\n",
       "<style scoped>\n",
       "    .dataframe tbody tr th:only-of-type {\n",
       "        vertical-align: middle;\n",
       "    }\n",
       "\n",
       "    .dataframe tbody tr th {\n",
       "        vertical-align: top;\n",
       "    }\n",
       "\n",
       "    .dataframe thead th {\n",
       "        text-align: right;\n",
       "    }\n",
       "</style>\n",
       "<table border=\"1\" class=\"dataframe\">\n",
       "  <thead>\n",
       "    <tr style=\"text-align: right;\">\n",
       "      <th></th>\n",
       "      <th>adult</th>\n",
       "      <th>belongs_to_collection</th>\n",
       "      <th>budget</th>\n",
       "      <th>genres</th>\n",
       "      <th>homepage</th>\n",
       "      <th>id</th>\n",
       "      <th>imdb_id</th>\n",
       "      <th>original_language</th>\n",
       "      <th>original_title</th>\n",
       "      <th>overview</th>\n",
       "      <th>...</th>\n",
       "      <th>Unnamed: 1128</th>\n",
       "      <th>Unnamed: 1129</th>\n",
       "      <th>Unnamed: 1130</th>\n",
       "      <th>Unnamed: 1131</th>\n",
       "      <th>Unnamed: 1132</th>\n",
       "      <th>Unnamed: 1133</th>\n",
       "      <th>Unnamed: 1134</th>\n",
       "      <th>Unnamed: 1135</th>\n",
       "      <th>Unnamed: 1136</th>\n",
       "      <th>keywords</th>\n",
       "    </tr>\n",
       "  </thead>\n",
       "  <tbody>\n",
       "    <tr>\n",
       "      <th>0</th>\n",
       "      <td>False</td>\n",
       "      <td>NaN</td>\n",
       "      <td>0</td>\n",
       "      <td>[{'id': 18, 'name': 'Drama'}, {'id': 80, 'name...</td>\n",
       "      <td>NaN</td>\n",
       "      <td>2</td>\n",
       "      <td>tt0094675</td>\n",
       "      <td>fi</td>\n",
       "      <td>Ariel</td>\n",
       "      <td>Taisto Kasurinen is a Finnish coal miner whose...</td>\n",
       "      <td>...</td>\n",
       "      <td>NaN</td>\n",
       "      <td>NaN</td>\n",
       "      <td>NaN</td>\n",
       "      <td>NaN</td>\n",
       "      <td>NaN</td>\n",
       "      <td>NaN</td>\n",
       "      <td>NaN</td>\n",
       "      <td>NaN</td>\n",
       "      <td>NaN</td>\n",
       "      <td>[{'id': 240, 'name': 'underdog'}, {'id': 378, ...</td>\n",
       "    </tr>\n",
       "    <tr>\n",
       "      <th>1</th>\n",
       "      <td>False</td>\n",
       "      <td>NaN</td>\n",
       "      <td>0</td>\n",
       "      <td>[{'id': 18, 'name': 'Drama'}, {'id': 35, 'name...</td>\n",
       "      <td>NaN</td>\n",
       "      <td>3</td>\n",
       "      <td>tt0092149</td>\n",
       "      <td>fi</td>\n",
       "      <td>Varjoja paratiisissa</td>\n",
       "      <td>An episode in the life of Nikander, a garbage ...</td>\n",
       "      <td>...</td>\n",
       "      <td>NaN</td>\n",
       "      <td>NaN</td>\n",
       "      <td>NaN</td>\n",
       "      <td>NaN</td>\n",
       "      <td>NaN</td>\n",
       "      <td>NaN</td>\n",
       "      <td>NaN</td>\n",
       "      <td>NaN</td>\n",
       "      <td>NaN</td>\n",
       "      <td>[{'id': 1361, 'name': 'salesclerk'}, {'id': 17...</td>\n",
       "    </tr>\n",
       "  </tbody>\n",
       "</table>\n",
       "<p>2 rows × 1161 columns</p>\n",
       "</div>"
      ],
      "text/plain": [
       "   adult belongs_to_collection  budget  \\\n",
       "0  False                   NaN       0   \n",
       "1  False                   NaN       0   \n",
       "\n",
       "                                              genres homepage  id    imdb_id  \\\n",
       "0  [{'id': 18, 'name': 'Drama'}, {'id': 80, 'name...      NaN   2  tt0094675   \n",
       "1  [{'id': 18, 'name': 'Drama'}, {'id': 35, 'name...      NaN   3  tt0092149   \n",
       "\n",
       "  original_language        original_title  \\\n",
       "0                fi                 Ariel   \n",
       "1                fi  Varjoja paratiisissa   \n",
       "\n",
       "                                            overview  ...  Unnamed: 1128  \\\n",
       "0  Taisto Kasurinen is a Finnish coal miner whose...  ...            NaN   \n",
       "1  An episode in the life of Nikander, a garbage ...  ...            NaN   \n",
       "\n",
       "  Unnamed: 1129 Unnamed: 1130 Unnamed: 1131 Unnamed: 1132  Unnamed: 1133  \\\n",
       "0           NaN           NaN           NaN           NaN            NaN   \n",
       "1           NaN           NaN           NaN           NaN            NaN   \n",
       "\n",
       "   Unnamed: 1134 Unnamed: 1135 Unnamed: 1136  \\\n",
       "0            NaN           NaN           NaN   \n",
       "1            NaN           NaN           NaN   \n",
       "\n",
       "                                            keywords  \n",
       "0  [{'id': 240, 'name': 'underdog'}, {'id': 378, ...  \n",
       "1  [{'id': 1361, 'name': 'salesclerk'}, {'id': 17...  \n",
       "\n",
       "[2 rows x 1161 columns]"
      ]
     },
     "execution_count": 19,
     "metadata": {},
     "output_type": "execute_result"
    }
   ],
   "source": [
    "metadata.head(2)"
   ]
  },
  {
   "cell_type": "code",
   "execution_count": 20,
   "id": "b7cf52bc",
   "metadata": {},
   "outputs": [],
   "source": [
    "from ast import literal_eval\n",
    "\n",
    "features = ['cast', 'crew', 'keywords', 'genres']\n",
    "for feature in features:\n",
    "    metadata[feature] = metadata[feature].apply(literal_eval)\n"
   ]
  },
  {
   "cell_type": "code",
   "execution_count": 21,
   "id": "5093b49c",
   "metadata": {},
   "outputs": [],
   "source": [
    "import numpy as np\n"
   ]
  },
  {
   "cell_type": "code",
   "execution_count": 22,
   "id": "2fc7717e",
   "metadata": {},
   "outputs": [],
   "source": [
    "def get_director(x):\n",
    "    for i in x:\n",
    "        if i['job'] == 'Director':\n",
    "            return i['name']\n",
    "    return np.nan\n"
   ]
  },
  {
   "cell_type": "code",
   "execution_count": 23,
   "id": "ce03651a",
   "metadata": {},
   "outputs": [],
   "source": [
    "def get_list(x):\n",
    "    if isinstance(x, list):\n",
    "        names = [i['name'] for i in x]\n",
    "        if len(names) > 3:\n",
    "            names = names[:3]\n",
    "        return names\n",
    "\n",
    "    return []\n"
   ]
  },
  {
   "cell_type": "code",
   "execution_count": 24,
   "id": "4645b6d1",
   "metadata": {},
   "outputs": [],
   "source": [
    "metadata['director'] = metadata['crew'].apply(get_director)\n",
    "\n",
    "features = ['cast', 'keywords', 'genres']\n",
    "for feature in features:\n",
    "    metadata[feature] = metadata[feature].apply(get_list)\n"
   ]
  },
  {
   "cell_type": "code",
   "execution_count": 25,
   "id": "e9faf9f1",
   "metadata": {},
   "outputs": [
    {
     "data": {
      "text/html": [
       "<div>\n",
       "<style scoped>\n",
       "    .dataframe tbody tr th:only-of-type {\n",
       "        vertical-align: middle;\n",
       "    }\n",
       "\n",
       "    .dataframe tbody tr th {\n",
       "        vertical-align: top;\n",
       "    }\n",
       "\n",
       "    .dataframe thead th {\n",
       "        text-align: right;\n",
       "    }\n",
       "</style>\n",
       "<table border=\"1\" class=\"dataframe\">\n",
       "  <thead>\n",
       "    <tr style=\"text-align: right;\">\n",
       "      <th></th>\n",
       "      <th>title</th>\n",
       "      <th>cast</th>\n",
       "      <th>director</th>\n",
       "      <th>keywords</th>\n",
       "      <th>genres</th>\n",
       "    </tr>\n",
       "  </thead>\n",
       "  <tbody>\n",
       "    <tr>\n",
       "      <th>0</th>\n",
       "      <td>Ariel</td>\n",
       "      <td>[Turo Pajala, Susanna Haavisto, Matti PellonpÃ...</td>\n",
       "      <td>Aki KaurismÃ¤ki</td>\n",
       "      <td>[underdog, prison, factory worker]</td>\n",
       "      <td>[Drama, Crime]</td>\n",
       "    </tr>\n",
       "    <tr>\n",
       "      <th>1</th>\n",
       "      <td>Shadows in Paradise</td>\n",
       "      <td>[Matti PellonpÃ¤Ã¤, Kati Outinen, Sakari Kuosm...</td>\n",
       "      <td>Aki KaurismÃ¤ki</td>\n",
       "      <td>[salesclerk, helsinki, garbage]</td>\n",
       "      <td>[Drama, Comedy]</td>\n",
       "    </tr>\n",
       "    <tr>\n",
       "      <th>2</th>\n",
       "      <td>Four Rooms</td>\n",
       "      <td>[Tim Roth, Antonio Banderas, Jennifer Beals]</td>\n",
       "      <td>Allison Anders</td>\n",
       "      <td>[hotel, new year's eve, witch]</td>\n",
       "      <td>[Crime, Comedy]</td>\n",
       "    </tr>\n",
       "  </tbody>\n",
       "</table>\n",
       "</div>"
      ],
      "text/plain": [
       "                 title                                               cast  \\\n",
       "0                Ariel  [Turo Pajala, Susanna Haavisto, Matti PellonpÃ...   \n",
       "1  Shadows in Paradise  [Matti PellonpÃ¤Ã¤, Kati Outinen, Sakari Kuosm...   \n",
       "2           Four Rooms       [Tim Roth, Antonio Banderas, Jennifer Beals]   \n",
       "\n",
       "          director                            keywords           genres  \n",
       "0  Aki KaurismÃ¤ki  [underdog, prison, factory worker]   [Drama, Crime]  \n",
       "1  Aki KaurismÃ¤ki     [salesclerk, helsinki, garbage]  [Drama, Comedy]  \n",
       "2   Allison Anders      [hotel, new year's eve, witch]  [Crime, Comedy]  "
      ]
     },
     "execution_count": 25,
     "metadata": {},
     "output_type": "execute_result"
    }
   ],
   "source": [
    "metadata[['title', 'cast', 'director', 'keywords', 'genres']].head(3)\n"
   ]
  },
  {
   "cell_type": "code",
   "execution_count": 26,
   "id": "f2f12319",
   "metadata": {},
   "outputs": [],
   "source": [
    "def clean_data(x):\n",
    "    if isinstance(x, list):\n",
    "        return [str.lower(i.replace(\" \", \"\")) for i in x]\n",
    "    else:\n",
    "        if isinstance(x, str):\n",
    "            return str.lower(x.replace(\" \", \"\"))\n",
    "        else:\n",
    "            return ''\n"
   ]
  },
  {
   "cell_type": "code",
   "execution_count": 27,
   "id": "37e94904",
   "metadata": {},
   "outputs": [],
   "source": [
    "features = ['cast', 'keywords', 'director', 'genres']\n",
    "\n",
    "for feature in features:\n",
    "    metadata[feature] = metadata[feature].apply(clean_data)\n"
   ]
  },
  {
   "cell_type": "code",
   "execution_count": 28,
   "id": "894fef58",
   "metadata": {},
   "outputs": [],
   "source": [
    "def create_soup(x):\n",
    "    return ' '.join(x['keywords']) + ' ' + ' '.join(x['cast']) + ' ' + x['director'] + ' ' + ' '.join(x['genres'])\n"
   ]
  },
  {
   "cell_type": "code",
   "execution_count": 29,
   "id": "983820b8",
   "metadata": {},
   "outputs": [],
   "source": [
    "metadata['soup'] = metadata.apply(create_soup, axis=1)\n"
   ]
  },
  {
   "cell_type": "code",
   "execution_count": 30,
   "id": "df00dd6d",
   "metadata": {},
   "outputs": [
    {
     "data": {
      "text/html": [
       "<div>\n",
       "<style scoped>\n",
       "    .dataframe tbody tr th:only-of-type {\n",
       "        vertical-align: middle;\n",
       "    }\n",
       "\n",
       "    .dataframe tbody tr th {\n",
       "        vertical-align: top;\n",
       "    }\n",
       "\n",
       "    .dataframe thead th {\n",
       "        text-align: right;\n",
       "    }\n",
       "</style>\n",
       "<table border=\"1\" class=\"dataframe\">\n",
       "  <thead>\n",
       "    <tr style=\"text-align: right;\">\n",
       "      <th></th>\n",
       "      <th>soup</th>\n",
       "    </tr>\n",
       "  </thead>\n",
       "  <tbody>\n",
       "    <tr>\n",
       "      <th>0</th>\n",
       "      <td>underdog prison factoryworker turopajala susan...</td>\n",
       "    </tr>\n",
       "    <tr>\n",
       "      <th>1</th>\n",
       "      <td>salesclerk helsinki garbage mattipellonpã¤ã¤ k...</td>\n",
       "    </tr>\n",
       "  </tbody>\n",
       "</table>\n",
       "</div>"
      ],
      "text/plain": [
       "                                                soup\n",
       "0  underdog prison factoryworker turopajala susan...\n",
       "1  salesclerk helsinki garbage mattipellonpã¤ã¤ k..."
      ]
     },
     "execution_count": 30,
     "metadata": {},
     "output_type": "execute_result"
    }
   ],
   "source": [
    "metadata[['soup']].head(2)\n"
   ]
  },
  {
   "cell_type": "code",
   "execution_count": 31,
   "id": "08cf6d12",
   "metadata": {},
   "outputs": [
    {
     "data": {
      "text/plain": [
       "0      underdog prison factoryworker turopajala susan...\n",
       "1      salesclerk helsinki garbage mattipellonpã¤ã¤ k...\n",
       "2      hotel newyear'seve witch timroth antoniobander...\n",
       "3      chicago drugdealer boxingmatch emilioestevez c...\n",
       "4      android galaxy hermit markhamill harrisonford ...\n",
       "                             ...                        \n",
       "991    cheerleader sport highschool kirstendunst jess...\n",
       "992    musician music ireland colmmeaney bernardhill ...\n",
       "993    beethoven womandirector edharris dianekruger m...\n",
       "994    lossoffamily emigration worldwarii julianekã¶h...\n",
       "995    corruption bishop courtcase richardgere edward...\n",
       "Name: soup, Length: 996, dtype: object"
      ]
     },
     "execution_count": 31,
     "metadata": {},
     "output_type": "execute_result"
    }
   ],
   "source": [
    "metadata[['soup'][0]]"
   ]
  },
  {
   "cell_type": "code",
   "execution_count": 32,
   "id": "2e5c798b",
   "metadata": {},
   "outputs": [],
   "source": [
    "from sklearn.feature_extraction.text import CountVectorizer\n",
    "\n",
    "count = CountVectorizer(stop_words='english')\n",
    "count_matrix = (count.fit_transform(metadata['soup'])).astype(np.int8)\n"
   ]
  },
  {
   "cell_type": "code",
   "execution_count": 33,
   "id": "a33917e9",
   "metadata": {},
   "outputs": [
    {
     "data": {
      "text/plain": [
       "(996, 3716)"
      ]
     },
     "execution_count": 33,
     "metadata": {},
     "output_type": "execute_result"
    }
   ],
   "source": [
    "count_matrix.shape\n"
   ]
  },
  {
   "cell_type": "code",
   "execution_count": 34,
   "id": "637f7532",
   "metadata": {},
   "outputs": [],
   "source": [
    "from sklearn.metrics.pairwise import cosine_similarity\n",
    "\n",
    "cosine_sim2 = cosine_similarity(count_matrix, count_matrix)\n"
   ]
  },
  {
   "cell_type": "code",
   "execution_count": 35,
   "id": "2f4b5985",
   "metadata": {},
   "outputs": [],
   "source": [
    "metadata = metadata.reset_index()\n",
    "indices = pd.Series(metadata.index, index=metadata['title'])"
   ]
  },
  {
   "cell_type": "code",
   "execution_count": 36,
   "id": "d6873f8e",
   "metadata": {},
   "outputs": [
    {
     "name": "stdout",
     "output_type": "stream",
     "text": [
      "<class 'numpy.ndarray'>\n"
     ]
    }
   ],
   "source": [
    "print(type(cosine_sim))"
   ]
  },
  {
   "cell_type": "code",
   "execution_count": 37,
   "id": "a2ac2d7b",
   "metadata": {},
   "outputs": [
    {
     "name": "stdout",
     "output_type": "stream",
     "text": [
      "(996,)\n"
     ]
    }
   ],
   "source": [
    "print(cosine_sim2[0].shape)"
   ]
  },
  {
   "cell_type": "code",
   "execution_count": 39,
   "id": "1b1f9cb3",
   "metadata": {},
   "outputs": [
    {
     "data": {
      "text/plain": [
       "283                         Alien\n",
       "167                The Terminator\n",
       "126                    Predator 2\n",
       "424             Starship Troopers\n",
       "549                     Moonraker\n",
       "576           From Dusk Till Dawn\n",
       "686            Planet of the Apes\n",
       "225    Terminator 2: Judgment Day\n",
       "611                       The Fog\n",
       "423                      Die Hard\n",
       "Name: title, dtype: object"
      ]
     },
     "execution_count": 39,
     "metadata": {},
     "output_type": "execute_result"
    }
   ],
   "source": [
    "get_recommendations('Aliens', cosine_sim2)\n"
   ]
  },
  {
   "cell_type": "code",
   "execution_count": null,
   "id": "8ba972d3",
   "metadata": {},
   "outputs": [],
   "source": []
  },
  {
   "cell_type": "code",
   "execution_count": null,
   "id": "fa83b40c",
   "metadata": {},
   "outputs": [],
   "source": []
  },
  {
   "cell_type": "code",
   "execution_count": null,
   "id": "4b93e231",
   "metadata": {},
   "outputs": [],
   "source": []
  }
 ],
 "metadata": {
  "kernelspec": {
   "display_name": "Python 3 (ipykernel)",
   "language": "python",
   "name": "python3"
  },
  "language_info": {
   "codemirror_mode": {
    "name": "ipython",
    "version": 3
   },
   "file_extension": ".py",
   "mimetype": "text/x-python",
   "name": "python",
   "nbconvert_exporter": "python",
   "pygments_lexer": "ipython3",
   "version": "3.11.5"
  }
 },
 "nbformat": 4,
 "nbformat_minor": 5
}
